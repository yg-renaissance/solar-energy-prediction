{
 "cells": [
  {
   "cell_type": "code",
   "execution_count": 2,
   "metadata": {},
   "outputs": [],
   "source": [
    "import pandas as pd\n",
    "import numpy as np\n",
    "import seaborn as sns\n",
    "import matplotlib.pyplot as plt\n",
    "import itertools\n",
    "import time\n",
    "import statsmodels.api as sm\n",
    "from sklearn import linear_model\n",
    "from tqdm import tnrange, tqdm_notebook\n",
    "from sklearn.metrics import mean_squared_error\n",
    "from statsmodels.regression.quantile_regression import QuantReg\n",
    "\n",
    "from sklearn.preprocessing import StandardScaler\n",
    "\n",
    "import os\n",
    "\n",
    "from sklearn.model_selection import train_test_split"
   ]
  },
  {
   "cell_type": "code",
   "execution_count": 3,
   "metadata": {},
   "outputs": [],
   "source": [
    "train = pd.read_csv('data/train/train.csv')\n",
    "sub = pd.read_csv('data/sample_submission.csv')"
   ]
  },
  {
   "cell_type": "code",
   "execution_count": 5,
   "metadata": {},
   "outputs": [],
   "source": [
    "train['GHI'] = train['DHI']+train['DNI']"
   ]
  },
  {
   "cell_type": "code",
   "execution_count": 6,
   "metadata": {},
   "outputs": [],
   "source": [
    "train.insert(3,'Time',train['Hour']+ (train['Minute'] == 30) *0.5 )"
   ]
  },
  {
   "cell_type": "markdown",
   "metadata": {},
   "source": [
    "### Time (Hour,Minute)"
   ]
  },
  {
   "cell_type": "code",
   "execution_count": 8,
   "metadata": {},
   "outputs": [],
   "source": [
    "del train['Minute']"
   ]
  },
  {
   "cell_type": "code",
   "execution_count": 10,
   "metadata": {},
   "outputs": [],
   "source": [
    "del train['Hour']"
   ]
  },
  {
   "cell_type": "markdown",
   "metadata": {},
   "source": [
    "### DAY preprocessing"
   ]
  },
  {
   "cell_type": "code",
   "execution_count": 28,
   "metadata": {},
   "outputs": [],
   "source": [
    "train.insert(0,'Day_' , (train['Day']%365)+1 )"
   ]
  },
  {
   "cell_type": "code",
   "execution_count": 31,
   "metadata": {},
   "outputs": [],
   "source": [
    "train = train.drop(['Day'],axis=1)"
   ]
  },
  {
   "cell_type": "markdown",
   "metadata": {},
   "source": [
    "- 365days -> month"
   ]
  },
  {
   "cell_type": "code",
   "execution_count": 33,
   "metadata": {},
   "outputs": [],
   "source": [
    "import calendar "
   ]
  },
  {
   "cell_type": "code",
   "execution_count": 40,
   "metadata": {},
   "outputs": [],
   "source": [
    "days_per_month =list( map(lambda x : calendar.monthrange(2018,x)[1],range(1,13) \n",
    "                         ))"
   ]
  },
  {
   "cell_type": "code",
   "execution_count": 59,
   "metadata": {},
   "outputs": [
    {
     "data": {
      "text/plain": [
       "[31, 28, 31, 30, 31, 30, 31, 31, 30, 31, 30, 31]"
      ]
     },
     "execution_count": 59,
     "metadata": {},
     "output_type": "execute_result"
    }
   ],
   "source": [
    "dpm = days_per_month\n",
    "dpm"
   ]
  },
  {
   "cell_type": "code",
   "execution_count": 60,
   "metadata": {},
   "outputs": [],
   "source": [
    "def get_month(days):\n",
    "    sum = 0\n",
    "    for i,x in enumerate(dpm) :\n",
    "        sum += x\n",
    "        if days <= sum :\n",
    "            month = i + 1\n",
    "            break\n",
    "    return month\n",
    "        "
   ]
  },
  {
   "cell_type": "code",
   "execution_count": 76,
   "metadata": {},
   "outputs": [],
   "source": [
    "train['Month'] = train['Day_'].map(get_month)"
   ]
  },
  {
   "cell_type": "code",
   "execution_count": 78,
   "metadata": {},
   "outputs": [],
   "source": [
    "train = train[['Month','Time','GHI','DHI','DNI','WS',\t'RH'\t,'T'\t,'TARGET'\t]]"
   ]
  },
  {
   "cell_type": "markdown",
   "metadata": {},
   "source": [
    "- categorize month to another set"
   ]
  },
  {
   "cell_type": "markdown",
   "metadata": {},
   "source": [
    "#### k-means 를 이용하여 12월개을 적절하게 카테고리화 \n",
    "#### [k는 알아서 찾도록 함](https://blog.nerdfactory.ai/2018/12/24/minimax-method-to-find-the-number-of-center-of-clustering.html) "
   ]
  },
  {
   "cell_type": "markdown",
   "metadata": {},
   "source": [
    "#### pass "
   ]
  },
  {
   "cell_type": "code",
   "execution_count": 85,
   "metadata": {
    "collapsed": true,
    "jupyter": {
     "outputs_hidden": true
    }
   },
   "outputs": [
    {
     "data": {
      "text/plain": [
       "<matplotlib.collections.PathCollection at 0x2bd15d23f70>"
      ]
     },
     "execution_count": 85,
     "metadata": {},
     "output_type": "execute_result"
    },
    {
     "data": {
      "image/png": "[encoded data removed]",
      "text/plain": [
       "<Figure size 432x288 with 1 Axes>"
      ]
     },
     "metadata": {
      "needs_background": "light"
     },
     "output_type": "display_data"
    }
   ],
   "source": [
    "plt.scatter(range(1,13),train.groupby(['Month'])['T'].mean() )"
   ]
  },
  {
   "cell_type": "code",
   "execution_count": 84,
   "metadata": {
    "collapsed": true,
    "jupyter": {
     "outputs_hidden": true
    }
   },
   "outputs": [
    {
     "data": {
      "text/plain": [
       "(array([2., 1., 1., 1., 1., 1., 2., 1., 1., 1.]),\n",
       " array([ 9.03341286, 10.89786085, 12.76230884, 14.62675683, 16.49120481,\n",
       "        18.3556528 , 20.22010079, 22.08454877, 23.94899676, 25.81344475,\n",
       "        27.67789273]),\n",
       " <BarContainer object of 10 artists>)"
      ]
     },
     "execution_count": 84,
     "metadata": {},
     "output_type": "execute_result"
    },
    {
     "data": {
      "image/png": "[encoded data removed]",
      "text/plain": [
       "<Figure size 432x288 with 1 Axes>"
      ]
     },
     "metadata": {
      "needs_background": "light"
     },
     "output_type": "display_data"
    }
   ],
   "source": [
    "plt.hist(train.groupby(['Month'])['TARGET'].mean() )"
   ]
  },
  {
   "cell_type": "code",
   "execution_count": 90,
   "metadata": {
    "collapsed": true,
    "jupyter": {
     "outputs_hidden": true,
     "source_hidden": true
    }
   },
   "outputs": [
    {
     "data": {
      "text/plain": [
       "<matplotlib.collections.PathCollection at 0x2bd18646130>"
      ]
     },
     "execution_count": 90,
     "metadata": {},
     "output_type": "execute_result"
    },
    {
     "data": {
      "image/png": "[encoded data removed]",
      "text/plain": [
       "<Figure size 432x288 with 1 Axes>"
      ]
     },
     "metadata": {
      "needs_background": "light"
     },
     "output_type": "display_data"
    }
   ],
   "source": [
    "plt.scatter(train[:48*365]['T'],train[:48*365]['TARGET'],alpha=0.3)"
   ]
  },
  {
   "cell_type": "markdown",
   "metadata": {},
   "source": [
    "### missing value checking"
   ]
  },
  {
   "cell_type": "code",
   "execution_count": 96,
   "metadata": {},
   "outputs": [
    {
     "data": {
      "text/plain": [
       "Month     0\n",
       "Time      0\n",
       "GHI       0\n",
       "DHI       0\n",
       "DNI       0\n",
       "WS        0\n",
       "RH        0\n",
       "T         0\n",
       "TARGET    0\n",
       "dtype: int64"
      ]
     },
     "execution_count": 96,
     "metadata": {},
     "output_type": "execute_result"
    }
   ],
   "source": [
    "np.sum(train.isna()) #nothing.... it's a mercy ✔"
   ]
  },
  {
   "cell_type": "markdown",
   "metadata": {},
   "source": [
    "### > outlier"
   ]
  },
  {
   "cell_type": "markdown",
   "metadata": {},
   "source": [
    "##### pass"
   ]
  },
  {
   "cell_type": "markdown",
   "metadata": {},
   "source": [
    "### > Scaling "
   ]
  },
  {
   "cell_type": "code",
   "execution_count": 101,
   "metadata": {},
   "outputs": [
    {
     "data": {
      "text/plain": [
       "Index(['Month', 'Time', 'GHI', 'DHI', 'DNI', 'WS', 'RH', 'T', 'TARGET'], dtype='object')"
      ]
     },
     "execution_count": 101,
     "metadata": {},
     "output_type": "execute_result"
    }
   ],
   "source": [
    "train.columns"
   ]
  },
  {
   "cell_type": "code",
   "execution_count": 102,
   "metadata": {},
   "outputs": [],
   "source": [
    "from sklearn.preprocessing import StandardScaler"
   ]
  },
  {
   "cell_type": "code",
   "execution_count": 110,
   "metadata": {},
   "outputs": [
    {
     "name": "stdout",
     "output_type": "stream",
     "text": [
      "StandardScaler()\n"
     ]
    }
   ],
   "source": [
    "standardScaler = StandardScaler()\n",
    "train_scaled = train[['Time','DNI','DHI','GHI','WS','RH','T','TARGET']]\n",
    "print(standardScaler.fit(train_scaled))\n",
    "train_scaled = standardScaler.transform(train_scaled)\n",
    "train_scaled = pd.DataFrame(train_scaled)"
   ]
  },
  {
   "cell_type": "code",
   "execution_count": 111,
   "metadata": {},
   "outputs": [],
   "source": [
    "train_scaled.columns = ['Time','DNI','DHI','GHI','WS','RH','T','TARGET']"
   ]
  },
  {
   "cell_type": "code",
   "execution_count": 115,
   "metadata": {},
   "outputs": [],
   "source": [
    "train_scaled.insert(0,'Month',train['Month'])"
   ]
  },
  {
   "cell_type": "code",
   "execution_count": 116,
   "metadata": {},
   "outputs": [
    {
     "data": {
      "text/html": [
       "<div>\n",
       "<style scoped>\n",
       "    .dataframe tbody tr th:only-of-type {\n",
       "        vertical-align: middle;\n",
       "    }\n",
       "\n",
       "    .dataframe tbody tr th {\n",
       "        vertical-align: top;\n",
       "    }\n",
       "\n",
       "    .dataframe thead th {\n",
       "        text-align: right;\n",
       "    }\n",
       "</style>\n",
       "<table border=\"1\" class=\"dataframe\">\n",
       "  <thead>\n",
       "    <tr style=\"text-align: right;\">\n",
       "      <th></th>\n",
       "      <th>Month</th>\n",
       "      <th>Time</th>\n",
       "      <th>DNI</th>\n",
       "      <th>DHI</th>\n",
       "      <th>GHI</th>\n",
       "      <th>WS</th>\n",
       "      <th>RH</th>\n",
       "      <th>T</th>\n",
       "      <th>TARGET</th>\n",
       "    </tr>\n",
       "  </thead>\n",
       "  <tbody>\n",
       "    <tr>\n",
       "      <th>0</th>\n",
       "      <td>1</td>\n",
       "      <td>-1.696335</td>\n",
       "      <td>-0.671447</td>\n",
       "      <td>-0.619312</td>\n",
       "      <td>-0.762223</td>\n",
       "      <td>-0.670026</td>\n",
       "      <td>0.557162</td>\n",
       "      <td>-2.090439</td>\n",
       "      <td>-0.690638</td>\n",
       "    </tr>\n",
       "    <tr>\n",
       "      <th>1</th>\n",
       "      <td>1</td>\n",
       "      <td>-1.624150</td>\n",
       "      <td>-0.671447</td>\n",
       "      <td>-0.619312</td>\n",
       "      <td>-0.762223</td>\n",
       "      <td>-0.670026</td>\n",
       "      <td>0.556255</td>\n",
       "      <td>-2.090439</td>\n",
       "      <td>-0.690638</td>\n",
       "    </tr>\n",
       "    <tr>\n",
       "      <th>2</th>\n",
       "      <td>1</td>\n",
       "      <td>-1.551966</td>\n",
       "      <td>-0.671447</td>\n",
       "      <td>-0.619312</td>\n",
       "      <td>-0.762223</td>\n",
       "      <td>-0.599942</td>\n",
       "      <td>0.679596</td>\n",
       "      <td>-2.090439</td>\n",
       "      <td>-0.690638</td>\n",
       "    </tr>\n",
       "    <tr>\n",
       "      <th>3</th>\n",
       "      <td>1</td>\n",
       "      <td>-1.479781</td>\n",
       "      <td>-0.671447</td>\n",
       "      <td>-0.619312</td>\n",
       "      <td>-0.762223</td>\n",
       "      <td>-0.599942</td>\n",
       "      <td>0.678235</td>\n",
       "      <td>-2.090439</td>\n",
       "      <td>-0.690638</td>\n",
       "    </tr>\n",
       "    <tr>\n",
       "      <th>4</th>\n",
       "      <td>1</td>\n",
       "      <td>-1.407597</td>\n",
       "      <td>-0.671447</td>\n",
       "      <td>-0.619312</td>\n",
       "      <td>-0.762223</td>\n",
       "      <td>-0.599942</td>\n",
       "      <td>0.834679</td>\n",
       "      <td>-2.090439</td>\n",
       "      <td>-0.690638</td>\n",
       "    </tr>\n",
       "    <tr>\n",
       "      <th>...</th>\n",
       "      <td>...</td>\n",
       "      <td>...</td>\n",
       "      <td>...</td>\n",
       "      <td>...</td>\n",
       "      <td>...</td>\n",
       "      <td>...</td>\n",
       "      <td>...</td>\n",
       "      <td>...</td>\n",
       "      <td>...</td>\n",
       "    </tr>\n",
       "    <tr>\n",
       "      <th>52555</th>\n",
       "      <td>12</td>\n",
       "      <td>1.407597</td>\n",
       "      <td>-0.671447</td>\n",
       "      <td>-0.619312</td>\n",
       "      <td>-0.762223</td>\n",
       "      <td>-0.039270</td>\n",
       "      <td>0.630622</td>\n",
       "      <td>-1.304557</td>\n",
       "      <td>-0.690638</td>\n",
       "    </tr>\n",
       "    <tr>\n",
       "      <th>52556</th>\n",
       "      <td>12</td>\n",
       "      <td>1.479781</td>\n",
       "      <td>-0.671447</td>\n",
       "      <td>-0.619312</td>\n",
       "      <td>-0.762223</td>\n",
       "      <td>-0.039270</td>\n",
       "      <td>0.453319</td>\n",
       "      <td>-1.304557</td>\n",
       "      <td>-0.690638</td>\n",
       "    </tr>\n",
       "    <tr>\n",
       "      <th>52557</th>\n",
       "      <td>12</td>\n",
       "      <td>1.551966</td>\n",
       "      <td>-0.671447</td>\n",
       "      <td>-0.619312</td>\n",
       "      <td>-0.762223</td>\n",
       "      <td>-0.179438</td>\n",
       "      <td>0.452866</td>\n",
       "      <td>-1.304557</td>\n",
       "      <td>-0.690638</td>\n",
       "    </tr>\n",
       "    <tr>\n",
       "      <th>52558</th>\n",
       "      <td>12</td>\n",
       "      <td>1.624150</td>\n",
       "      <td>-0.671447</td>\n",
       "      <td>-0.619312</td>\n",
       "      <td>-0.762223</td>\n",
       "      <td>-0.249522</td>\n",
       "      <td>0.495491</td>\n",
       "      <td>-1.304557</td>\n",
       "      <td>-0.690638</td>\n",
       "    </tr>\n",
       "    <tr>\n",
       "      <th>52559</th>\n",
       "      <td>12</td>\n",
       "      <td>1.696335</td>\n",
       "      <td>-0.671447</td>\n",
       "      <td>-0.619312</td>\n",
       "      <td>-0.762223</td>\n",
       "      <td>-0.249522</td>\n",
       "      <td>0.494584</td>\n",
       "      <td>-1.304557</td>\n",
       "      <td>-0.690638</td>\n",
       "    </tr>\n",
       "  </tbody>\n",
       "</table>\n",
       "<p>52560 rows × 9 columns</p>\n",
       "</div>"
      ],
      "text/plain": [
       "       Month      Time       DNI       DHI       GHI        WS        RH  \\\n",
       "0          1 -1.696335 -0.671447 -0.619312 -0.762223 -0.670026  0.557162   \n",
       "1          1 -1.624150 -0.671447 -0.619312 -0.762223 -0.670026  0.556255   \n",
       "2          1 -1.551966 -0.671447 -0.619312 -0.762223 -0.599942  0.679596   \n",
       "3          1 -1.479781 -0.671447 -0.619312 -0.762223 -0.599942  0.678235   \n",
       "4          1 -1.407597 -0.671447 -0.619312 -0.762223 -0.599942  0.834679   \n",
       "...      ...       ...       ...       ...       ...       ...       ...   \n",
       "52555     12  1.407597 -0.671447 -0.619312 -0.762223 -0.039270  0.630622   \n",
       "52556     12  1.479781 -0.671447 -0.619312 -0.762223 -0.039270  0.453319   \n",
       "52557     12  1.551966 -0.671447 -0.619312 -0.762223 -0.179438  0.452866   \n",
       "52558     12  1.624150 -0.671447 -0.619312 -0.762223 -0.249522  0.495491   \n",
       "52559     12  1.696335 -0.671447 -0.619312 -0.762223 -0.249522  0.494584   \n",
       "\n",
       "              T    TARGET  \n",
       "0     -2.090439 -0.690638  \n",
       "1     -2.090439 -0.690638  \n",
       "2     -2.090439 -0.690638  \n",
       "3     -2.090439 -0.690638  \n",
       "4     -2.090439 -0.690638  \n",
       "...         ...       ...  \n",
       "52555 -1.304557 -0.690638  \n",
       "52556 -1.304557 -0.690638  \n",
       "52557 -1.304557 -0.690638  \n",
       "52558 -1.304557 -0.690638  \n",
       "52559 -1.304557 -0.690638  \n",
       "\n",
       "[52560 rows x 9 columns]"
      ]
     },
     "execution_count": 116,
     "metadata": {},
     "output_type": "execute_result"
    }
   ],
   "source": [
    "train_scaled"
   ]
  },
  {
   "cell_type": "markdown",
   "metadata": {},
   "source": [
    "### LSTM model"
   ]
  },
  {
   "cell_type": "code",
   "execution_count": 118,
   "metadata": {},
   "outputs": [
    {
     "name": "stdout",
     "output_type": "stream",
     "text": [
      "Collecting tensorflowNote: you may need to restart the kernel to use updated packages.\n"
     ]
    },
    {
     "name": "stderr",
     "output_type": "stream",
     "text": [
      "ERROR: Exception:\n",
      "Traceback (most recent call last):\n",
      "  File \"C:\\Users\\epsilon\\dev\\Anaconda\\lib\\site-packages\\pip\\_vendor\\urllib3\\response.py\", line 437, in _error_catcher\n",
      "    yield\n",
      "  File \"C:\\Users\\epsilon\\dev\\Anaconda\\lib\\site-packages\\pip\\_vendor\\urllib3\\response.py\", line 519, in read\n",
      "    data = self._fp.read(amt) if not fp_closed else b\"\"\n",
      "  File \"C:\\Users\\epsilon\\dev\\Anaconda\\lib\\site-packages\\pip\\_vendor\\cachecontrol\\filewrapper.py\", line 62, in read\n",
      "    data = self.__fp.read(amt)\n",
      "  File \"C:\\Users\\epsilon\\dev\\Anaconda\\lib\\http\\client.py\", line 458, in read\n",
      "    n = self.readinto(b)\n",
      "  File \"C:\\Users\\epsilon\\dev\\Anaconda\\lib\\http\\client.py\", line 502, in readinto\n",
      "    n = self.fp.readinto(b)\n",
      "  File \"C:\\Users\\epsilon\\dev\\Anaconda\\lib\\socket.py\", line 669, in readinto\n",
      "    return self._sock.recv_into(b)\n",
      "  File \"C:\\Users\\epsilon\\dev\\Anaconda\\lib\\ssl.py\", line 1241, in recv_into\n",
      "    return self.read(nbytes, buffer)\n",
      "  File \"C:\\Users\\epsilon\\dev\\Anaconda\\lib\\ssl.py\", line 1099, in read\n",
      "    return self._sslobj.read(len, buffer)\n",
      "socket.timeout: The read operation timed out\n",
      "\n",
      "During handling of the above exception, another exception occurred:\n",
      "\n",
      "Traceback (most recent call last):\n",
      "  File \"C:\\Users\\epsilon\\dev\\Anaconda\\lib\\site-packages\\pip\\_internal\\cli\\base_command.py\", line 228, in _main\n",
      "    status = self.run(options, args)"
     ]
    },
    {
     "name": "stdout",
     "output_type": "stream",
     "text": [
      "\n",
      "  Downloading tensorflow-2.4.0-cp38-cp38-win_amd64.whl (370.7 MB)\n"
     ]
    },
    {
     "name": "stderr",
     "output_type": "stream",
     "text": [
      "\n",
      "  File \"C:\\Users\\epsilon\\dev\\Anaconda\\lib\\site-packages\\pip\\_internal\\cli\\req_command.py\", line 182, in wrapper\n",
      "    return func(self, options, args)\n",
      "  File \"C:\\Users\\epsilon\\dev\\Anaconda\\lib\\site-packages\\pip\\_internal\\commands\\install.py\", line 323, in run\n",
      "    requirement_set = resolver.resolve(\n",
      "  File \"C:\\Users\\epsilon\\dev\\Anaconda\\lib\\site-packages\\pip\\_internal\\resolution\\legacy\\resolver.py\", line 183, in resolve\n",
      "    discovered_reqs.extend(self._resolve_one(requirement_set, req))\n",
      "  File \"C:\\Users\\epsilon\\dev\\Anaconda\\lib\\site-packages\\pip\\_internal\\resolution\\legacy\\resolver.py\", line 388, in _resolve_one\n",
      "    abstract_dist = self._get_abstract_dist_for(req_to_install)\n",
      "  File \"C:\\Users\\epsilon\\dev\\Anaconda\\lib\\site-packages\\pip\\_internal\\resolution\\legacy\\resolver.py\", line 340, in _get_abstract_dist_for\n",
      "    abstract_dist = self.preparer.prepare_linked_requirement(req)\n",
      "  File \"C:\\Users\\epsilon\\dev\\Anaconda\\lib\\site-packages\\pip\\_internal\\operations\\prepare.py\", line 467, in prepare_linked_requirement\n",
      "    local_file = unpack_url(\n",
      "  File \"C:\\Users\\epsilon\\dev\\Anaconda\\lib\\site-packages\\pip\\_internal\\operations\\prepare.py\", line 255, in unpack_url\n",
      "    file = get_http_url(\n",
      "  File \"C:\\Users\\epsilon\\dev\\Anaconda\\lib\\site-packages\\pip\\_internal\\operations\\prepare.py\", line 129, in get_http_url\n",
      "    from_path, content_type = _download_http_url(\n",
      "  File \"C:\\Users\\epsilon\\dev\\Anaconda\\lib\\site-packages\\pip\\_internal\\operations\\prepare.py\", line 282, in _download_http_url\n",
      "    for chunk in download.chunks:\n",
      "  File \"C:\\Users\\epsilon\\dev\\Anaconda\\lib\\site-packages\\pip\\_internal\\cli\\progress_bars.py\", line 168, in iter\n",
      "    for x in it:\n",
      "  File \"C:\\Users\\epsilon\\dev\\Anaconda\\lib\\site-packages\\pip\\_internal\\network\\utils.py\", line 64, in response_chunks\n",
      "    for chunk in response.raw.stream(\n",
      "  File \"C:\\Users\\epsilon\\dev\\Anaconda\\lib\\site-packages\\pip\\_vendor\\urllib3\\response.py\", line 576, in stream\n",
      "    data = self.read(amt=amt, decode_content=decode_content)\n",
      "  File \"C:\\Users\\epsilon\\dev\\Anaconda\\lib\\site-packages\\pip\\_vendor\\urllib3\\response.py\", line 541, in read\n",
      "    raise IncompleteRead(self._fp_bytes_read, self.length_remaining)\n",
      "  File \"C:\\Users\\epsilon\\dev\\Anaconda\\lib\\contextlib.py\", line 131, in __exit__\n",
      "    self.gen.throw(type, value, traceback)\n",
      "  File \"C:\\Users\\epsilon\\dev\\Anaconda\\lib\\site-packages\\pip\\_vendor\\urllib3\\response.py\", line 442, in _error_catcher\n",
      "    raise ReadTimeoutError(self._pool, None, \"Read timed out.\")\n",
      "pip._vendor.urllib3.exceptions.ReadTimeoutError: HTTPSConnectionPool(host='files.pythonhosted.org', port=443): Read timed out.\n"
     ]
    }
   ],
   "source": []
  },
  {
   "cell_type": "code",
   "execution_count": 119,
   "metadata": {},
   "outputs": [
    {
     "name": "stdout",
     "output_type": "stream",
     "text": [
      "Python 3.8.5\n"
     ]
    }
   ],
   "source": [
    "!python -V"
   ]
  },
  {
   "cell_type": "code",
   "execution_count": 117,
   "metadata": {},
   "outputs": [
    {
     "ename": "ModuleNotFoundError",
     "evalue": "No module named 'tensorflow'",
     "output_type": "error",
     "traceback": [
      "\u001b[1;31m---------------------------------------------------------------------------\u001b[0m",
      "\u001b[1;31mModuleNotFoundError\u001b[0m                       Traceback (most recent call last)",
      "\u001b[1;32m<ipython-input-117-1901b0db022a>\u001b[0m in \u001b[0;36m<module>\u001b[1;34m\u001b[0m\n\u001b[1;32m----> 1\u001b[1;33m \u001b[1;32mfrom\u001b[0m \u001b[0mtensorflow\u001b[0m\u001b[1;33m.\u001b[0m\u001b[0mkeras\u001b[0m\u001b[1;33m.\u001b[0m\u001b[0mutils\u001b[0m \u001b[1;32mimport\u001b[0m \u001b[0mto_categorical\u001b[0m\u001b[1;33m\u001b[0m\u001b[1;33m\u001b[0m\u001b[0m\n\u001b[0m",
      "\u001b[1;31mModuleNotFoundError\u001b[0m: No module named 'tensorflow'"
     ]
    }
   ],
   "source": [
    "from tensorflow.keras.utils import to_categorical"
   ]
  },
  {
   "cell_type": "code",
   "execution_count": null,
   "metadata": {},
   "outputs": [],
   "source": [
    "# from tensorflow.keras.utils import to_categorical\n",
    "# one_hot = to_categorical(encoded)"
   ]
  },
  {
   "cell_type": "code",
   "execution_count": 109,
   "metadata": {},
   "outputs": [
    {
     "data": {
      "text/html": [
       "<div>\n",
       "<style scoped>\n",
       "    .dataframe tbody tr th:only-of-type {\n",
       "        vertical-align: middle;\n",
       "    }\n",
       "\n",
       "    .dataframe tbody tr th {\n",
       "        vertical-align: top;\n",
       "    }\n",
       "\n",
       "    .dataframe thead th {\n",
       "        text-align: right;\n",
       "    }\n",
       "</style>\n",
       "<table border=\"1\" class=\"dataframe\">\n",
       "  <thead>\n",
       "    <tr style=\"text-align: right;\">\n",
       "      <th></th>\n",
       "      <th>Month</th>\n",
       "      <th>Time</th>\n",
       "      <th>DNI</th>\n",
       "      <th>DHI</th>\n",
       "      <th>GHI</th>\n",
       "      <th>WS</th>\n",
       "      <th>RH</th>\n",
       "      <th>T</th>\n",
       "      <th>TARGET</th>\n",
       "    </tr>\n",
       "  </thead>\n",
       "  <tbody>\n",
       "    <tr>\n",
       "      <th>0</th>\n",
       "      <td>-1.602745</td>\n",
       "      <td>-1.696335</td>\n",
       "      <td>-0.671447</td>\n",
       "      <td>-0.619312</td>\n",
       "      <td>-0.762223</td>\n",
       "      <td>-0.670026</td>\n",
       "      <td>0.557162</td>\n",
       "      <td>-2.090439</td>\n",
       "      <td>-0.690638</td>\n",
       "    </tr>\n",
       "    <tr>\n",
       "      <th>1</th>\n",
       "      <td>-1.602745</td>\n",
       "      <td>-1.624150</td>\n",
       "      <td>-0.671447</td>\n",
       "      <td>-0.619312</td>\n",
       "      <td>-0.762223</td>\n",
       "      <td>-0.670026</td>\n",
       "      <td>0.556255</td>\n",
       "      <td>-2.090439</td>\n",
       "      <td>-0.690638</td>\n",
       "    </tr>\n",
       "    <tr>\n",
       "      <th>2</th>\n",
       "      <td>-1.602745</td>\n",
       "      <td>-1.551966</td>\n",
       "      <td>-0.671447</td>\n",
       "      <td>-0.619312</td>\n",
       "      <td>-0.762223</td>\n",
       "      <td>-0.599942</td>\n",
       "      <td>0.679596</td>\n",
       "      <td>-2.090439</td>\n",
       "      <td>-0.690638</td>\n",
       "    </tr>\n",
       "    <tr>\n",
       "      <th>3</th>\n",
       "      <td>-1.602745</td>\n",
       "      <td>-1.479781</td>\n",
       "      <td>-0.671447</td>\n",
       "      <td>-0.619312</td>\n",
       "      <td>-0.762223</td>\n",
       "      <td>-0.599942</td>\n",
       "      <td>0.678235</td>\n",
       "      <td>-2.090439</td>\n",
       "      <td>-0.690638</td>\n",
       "    </tr>\n",
       "    <tr>\n",
       "      <th>4</th>\n",
       "      <td>-1.602745</td>\n",
       "      <td>-1.407597</td>\n",
       "      <td>-0.671447</td>\n",
       "      <td>-0.619312</td>\n",
       "      <td>-0.762223</td>\n",
       "      <td>-0.599942</td>\n",
       "      <td>0.834679</td>\n",
       "      <td>-2.090439</td>\n",
       "      <td>-0.690638</td>\n",
       "    </tr>\n",
       "    <tr>\n",
       "      <th>...</th>\n",
       "      <td>...</td>\n",
       "      <td>...</td>\n",
       "      <td>...</td>\n",
       "      <td>...</td>\n",
       "      <td>...</td>\n",
       "      <td>...</td>\n",
       "      <td>...</td>\n",
       "      <td>...</td>\n",
       "      <td>...</td>\n",
       "    </tr>\n",
       "    <tr>\n",
       "      <th>52555</th>\n",
       "      <td>1.587648</td>\n",
       "      <td>1.407597</td>\n",
       "      <td>-0.671447</td>\n",
       "      <td>-0.619312</td>\n",
       "      <td>-0.762223</td>\n",
       "      <td>-0.039270</td>\n",
       "      <td>0.630622</td>\n",
       "      <td>-1.304557</td>\n",
       "      <td>-0.690638</td>\n",
       "    </tr>\n",
       "    <tr>\n",
       "      <th>52556</th>\n",
       "      <td>1.587648</td>\n",
       "      <td>1.479781</td>\n",
       "      <td>-0.671447</td>\n",
       "      <td>-0.619312</td>\n",
       "      <td>-0.762223</td>\n",
       "      <td>-0.039270</td>\n",
       "      <td>0.453319</td>\n",
       "      <td>-1.304557</td>\n",
       "      <td>-0.690638</td>\n",
       "    </tr>\n",
       "    <tr>\n",
       "      <th>52557</th>\n",
       "      <td>1.587648</td>\n",
       "      <td>1.551966</td>\n",
       "      <td>-0.671447</td>\n",
       "      <td>-0.619312</td>\n",
       "      <td>-0.762223</td>\n",
       "      <td>-0.179438</td>\n",
       "      <td>0.452866</td>\n",
       "      <td>-1.304557</td>\n",
       "      <td>-0.690638</td>\n",
       "    </tr>\n",
       "    <tr>\n",
       "      <th>52558</th>\n",
       "      <td>1.587648</td>\n",
       "      <td>1.624150</td>\n",
       "      <td>-0.671447</td>\n",
       "      <td>-0.619312</td>\n",
       "      <td>-0.762223</td>\n",
       "      <td>-0.249522</td>\n",
       "      <td>0.495491</td>\n",
       "      <td>-1.304557</td>\n",
       "      <td>-0.690638</td>\n",
       "    </tr>\n",
       "    <tr>\n",
       "      <th>52559</th>\n",
       "      <td>1.587648</td>\n",
       "      <td>1.696335</td>\n",
       "      <td>-0.671447</td>\n",
       "      <td>-0.619312</td>\n",
       "      <td>-0.762223</td>\n",
       "      <td>-0.249522</td>\n",
       "      <td>0.494584</td>\n",
       "      <td>-1.304557</td>\n",
       "      <td>-0.690638</td>\n",
       "    </tr>\n",
       "  </tbody>\n",
       "</table>\n",
       "<p>52560 rows × 9 columns</p>\n",
       "</div>"
      ],
      "text/plain": [
       "          Month      Time       DNI       DHI       GHI        WS        RH  \\\n",
       "0     -1.602745 -1.696335 -0.671447 -0.619312 -0.762223 -0.670026  0.557162   \n",
       "1     -1.602745 -1.624150 -0.671447 -0.619312 -0.762223 -0.670026  0.556255   \n",
       "2     -1.602745 -1.551966 -0.671447 -0.619312 -0.762223 -0.599942  0.679596   \n",
       "3     -1.602745 -1.479781 -0.671447 -0.619312 -0.762223 -0.599942  0.678235   \n",
       "4     -1.602745 -1.407597 -0.671447 -0.619312 -0.762223 -0.599942  0.834679   \n",
       "...         ...       ...       ...       ...       ...       ...       ...   \n",
       "52555  1.587648  1.407597 -0.671447 -0.619312 -0.762223 -0.039270  0.630622   \n",
       "52556  1.587648  1.479781 -0.671447 -0.619312 -0.762223 -0.039270  0.453319   \n",
       "52557  1.587648  1.551966 -0.671447 -0.619312 -0.762223 -0.179438  0.452866   \n",
       "52558  1.587648  1.624150 -0.671447 -0.619312 -0.762223 -0.249522  0.495491   \n",
       "52559  1.587648  1.696335 -0.671447 -0.619312 -0.762223 -0.249522  0.494584   \n",
       "\n",
       "              T    TARGET  \n",
       "0     -2.090439 -0.690638  \n",
       "1     -2.090439 -0.690638  \n",
       "2     -2.090439 -0.690638  \n",
       "3     -2.090439 -0.690638  \n",
       "4     -2.090439 -0.690638  \n",
       "...         ...       ...  \n",
       "52555 -1.304557 -0.690638  \n",
       "52556 -1.304557 -0.690638  \n",
       "52557 -1.304557 -0.690638  \n",
       "52558 -1.304557 -0.690638  \n",
       "52559 -1.304557 -0.690638  \n",
       "\n",
       "[52560 rows x 9 columns]"
      ]
     },
     "execution_count": 109,
     "metadata": {},
     "output_type": "execute_result"
    }
   ],
   "source": [
    "train_scaled"
   ]
  }
 ],
 "metadata": {
  "kernelspec": {
   "display_name": "Python 3",
   "language": "python",
   "name": "python3"
  },
  "language_info": {
   "codemirror_mode": {
    "name": "ipython",
    "version": 3
   },
   "file_extension": ".py",
   "mimetype": "text/x-python",
   "name": "python",
   "nbconvert_exporter": "python",
   "pygments_lexer": "ipython3",
   "version": "3.8.5"
  }
 },
 "nbformat": 4,
 "nbformat_minor": 4
}
