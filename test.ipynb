{
  "nbformat": 4,
  "nbformat_minor": 0,
  "metadata": {
    "colab": {
      "name": "Untitled0.ipynb",
      "provenance": [],
      "collapsed_sections": [],
      "mount_file_id": "1F-3rduIaB9ha2vJO5l-Mv2Sw57uVsCza",
      "authorship_tag": "ABX9TyP7+tx0ZhwUTzukCycoSmFo",
      "include_colab_link": true
    },
    "kernelspec": {
      "name": "python3",
      "display_name": "Python 3"
    }
  },
  "cells": [
    {
      "cell_type": "markdown",
      "metadata": {
        "id": "view-in-github",
        "colab_type": "text"
      },
      "source": [
        "<a href=\"https://colab.research.google.com/github/yg-renaissance/solar-energy-prediction/blob/master/test.ipynb\" target=\"_parent\"><img src=\"https://colab.research.google.com/assets/colab-badge.svg\" alt=\"Open In Colab\"/></a>"
      ]
    },
    {
      "cell_type": "code",
      "metadata": {
        "colab": {
          "base_uri": "https://localhost:8080/"
        },
        "id": "rVBh_zBTV8hZ",
        "outputId": "9fb2d3e3-4921-4c07-af40-155dd5be5f27"
      },
      "source": [
        "!git clone https://github.com/yg-renaissance/solar-energy-prediction.git '/content/drive/MyDrive/YGL_Renaissance/solar_generating_energy_prediction/src0'"
      ],
      "execution_count": 4,
      "outputs": [
        {
          "output_type": "stream",
          "text": [
            "Cloning into '/content/drive/MyDrive/YGL_Renaissance/solar_generating_energy_prediction/src0'...\n",
            "remote: Enumerating objects: 182, done.\u001b[K\n",
            "remote: Counting objects: 100% (182/182), done.\u001b[K\n",
            "remote: Compressing objects: 100% (168/168), done.\u001b[K\n",
            "remote: Total 182 (delta 20), reused 173 (delta 11), pack-reused 0\u001b[K\n",
            "Receiving objects: 100% (182/182), 3.45 MiB | 3.07 MiB/s, done.\n",
            "Resolving deltas: 100% (20/20), done.\n"
          ],
          "name": "stdout"
        }
      ]
    }
  ]
}